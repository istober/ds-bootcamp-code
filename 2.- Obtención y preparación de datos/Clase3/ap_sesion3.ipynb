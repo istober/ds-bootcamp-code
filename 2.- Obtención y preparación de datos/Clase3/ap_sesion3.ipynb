{
  "nbformat": 4,
  "nbformat_minor": 0,
  "metadata": {
    "colab": {
      "provenance": []
    },
    "kernelspec": {
      "name": "python3",
      "display_name": "Python 3"
    },
    "language_info": {
      "name": "python"
    }
  },
  "cells": [
    {
      "cell_type": "code",
      "execution_count": null,
      "metadata": {
        "id": "U-jh8UL0ktnG"
      },
      "outputs": [],
      "source": [
        "import pandas as pd"
      ]
    },
    {
      "cell_type": "code",
      "source": [
        "df = pd.read_csv('ventas.csv')"
      ],
      "metadata": {
        "id": "u14MmZEcldLe"
      },
      "execution_count": null,
      "outputs": []
    },
    {
      "cell_type": "code",
      "source": [
        "df.head()"
      ],
      "metadata": {
        "id": "46yrBA26l7zD"
      },
      "execution_count": null,
      "outputs": []
    },
    {
      "cell_type": "code",
      "source": [
        "df.columns = df.columns.str.strip()"
      ],
      "metadata": {
        "id": "BITJl0iXpLg0"
      },
      "execution_count": null,
      "outputs": []
    },
    {
      "cell_type": "code",
      "source": [
        "df[['Producto', 'Precio']]"
      ],
      "metadata": {
        "id": "nM4nEAiLq5OB"
      },
      "execution_count": null,
      "outputs": []
    },
    {
      "cell_type": "code",
      "source": [
        "df_filtrado = df[df['Precio'] > 50]"
      ],
      "metadata": {
        "id": "-uDqs_YnrBFA"
      },
      "execution_count": null,
      "outputs": []
    },
    {
      "cell_type": "code",
      "source": [
        "df_filtrado.to_csv('ventas_filtrado.csv', index = False)"
      ],
      "metadata": {
        "id": "ZMfpIxbwrf4Y"
      },
      "execution_count": null,
      "outputs": []
    }
  ]
}