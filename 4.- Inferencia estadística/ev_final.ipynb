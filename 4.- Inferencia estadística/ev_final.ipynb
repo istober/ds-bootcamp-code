{
  "nbformat": 4,
  "nbformat_minor": 0,
  "metadata": {
    "colab": {
      "provenance": []
    },
    "kernelspec": {
      "name": "python3",
      "display_name": "Python 3"
    },
    "language_info": {
      "name": "python"
    }
  },
  "cells": [
    {
      "cell_type": "markdown",
      "source": [
        "**1. Diseño del Experimento**\n",
        "\n",
        "Para mejorar la fiabilidad del experimento y reducir la influencia de variables externas, se podrían implementar las siguientes mejoras:\n",
        "\n",
        "*Aleatorización completa:* Asegurar que la asignación de los 30 estudiantes a los dos grupos sea totalmente aleatoria. Esto minimiza el sesgo de selección, garantizando que las características preexistentes de los estudiantes (como el nivel de motivación o el conocimiento previo) se distribuyan de manera equitativa.\n",
        "\n",
        "*Aumento del tamaño muestral:* Utilizar una muestra más grande de estudiantes podría aumentar la potencia estadística del estudio, haciendo que los resultados sean más generalizables a toda la población estudiantil."
      ],
      "metadata": {
        "id": "TIoDNhBorg4C"
      }
    },
    {
      "cell_type": "markdown",
      "source": [
        "**2. Cálculo de Estadísticas Descriptivas**"
      ],
      "metadata": {
        "id": "l0neul2Tto5Y"
      }
    },
    {
      "cell_type": "code",
      "execution_count": 2,
      "metadata": {
        "id": "oof4IQGyrThm"
      },
      "outputs": [],
      "source": [
        "import numpy as np\n",
        "import matplotlib.pyplot as plt"
      ]
    },
    {
      "cell_type": "code",
      "source": [
        "grupo_a = [85, 90, 78, 88, 92, 80, 86, 89, 84, 87, 91, 82, 83, 85, 88]\n",
        "grupo_b = [70, 72, 75, 78, 80, 68, 74, 76, 79, 77, 73, 71, 75, 78, 80]"
      ],
      "metadata": {
        "id": "uKZbP4yIsmqK"
      },
      "execution_count": 3,
      "outputs": []
    },
    {
      "cell_type": "code",
      "source": [
        "media_a = np.mean(grupo_a)\n",
        "media_b = np.mean(grupo_b)\n",
        "std_a = np.std(grupo_a, ddof=1)\n",
        "std_b = np.std(grupo_b, ddof=1)\n",
        "\n",
        "print(f\"Grupo A (Tutoría) -> Media: {media_a:.2f}, Desviación Estándar: {std_a:.2f}\")\n",
        "print(f\"Grupo B (Control) -> Media: {media_b:.2f}, Desviación Estándar: {std_b:.2f}\")"
      ],
      "metadata": {
        "colab": {
          "base_uri": "https://localhost:8080/"
        },
        "id": "GvvfBx57s6q1",
        "outputId": "78a3c175-be77-4fd3-aebe-a754443d84dc"
      },
      "execution_count": 4,
      "outputs": [
        {
          "output_type": "stream",
          "name": "stdout",
          "text": [
            "Grupo A (Tutoría) -> Media: 85.87, Desviación Estándar: 4.02\n",
            "Grupo B (Control) -> Media: 75.07, Desviación Estándar: 3.71\n"
          ]
        }
      ]
    },
    {
      "cell_type": "code",
      "source": [
        "plt.figure()\n",
        "plt.boxplot([grupo_a, grupo_b], tick_labels=['Grupo A (Tutoría)', 'Grupo B (Control)'])\n",
        "plt.title('Diagrama de Caja con Media y Desviación Estándar por Grupo')\n",
        "plt.ylabel('Puntuación')\n",
        "plt.grid()\n",
        "plt.show()"
      ],
      "metadata": {
        "colab": {
          "base_uri": "https://localhost:8080/",
          "height": 453
        },
        "id": "A5CditkZtXBW",
        "outputId": "38f54903-e8fc-4b8b-afba-0da2f8c199e9"
      },
      "execution_count": 5,
      "outputs": [
        {
          "output_type": "display_data",
          "data": {
            "text/plain": [
              "<Figure size 640x480 with 1 Axes>"
            ],
            "image/png": "[encoded data removed]"
          },
          "metadata": {}
        }
      ]
    },
    {
      "cell_type": "markdown",
      "source": [
        "**4. Prueba de Hipótesis**\n",
        "\n",
        "H0: El rendimiento académico entre los grupos es el mismo (media_a = media_b)\n",
        "\n",
        "H1: El grupo con tutoría tiene un mejor rendimiento académico (media_a > media_b)"
      ],
      "metadata": {
        "id": "djlrMBtRwfg3"
      }
    },
    {
      "cell_type": "code",
      "metadata": {
        "colab": {
          "base_uri": "https://localhost:8080/"
        },
        "id": "9cc81fdc",
        "outputId": "9ce17ad0-8c79-45ee-ab1e-0d3bf3536f92"
      },
      "source": [
        "from scipy import stats\n",
        "\n",
        "t_stat, p_valor = stats.ttest_ind(grupo_a, grupo_b, alternative='greater')\n",
        "print(f\"Estadístico t: {t_stat:.2f}\")\n",
        "print(f\"Valor p: {p_valor}\")\n",
        "\n",
        "alpha = 0.05\n",
        "\n",
        "if p_valor < alpha:\n",
        "    print(\"Como el valor p es menor que el nivel de significancia (0.05), rechazamos la hipótesis nula.\")\n",
        "else:\n",
        "    print(\"Como el valor p es mayor que el nivel de significancia (0.05), no rechazamos la hipótesis nula.\")"
      ],
      "execution_count": 12,
      "outputs": [
        {
          "output_type": "stream",
          "name": "stdout",
          "text": [
            "Estadístico t: 7.65\n",
            "Valor p: 1.2395750106766606e-08\n",
            "Como el valor p es menor que el nivel de significancia (0.05), rechazamos la hipótesis nula.\n"
          ]
        }
      ]
    },
    {
      "cell_type": "markdown",
      "source": [
        "Hay suficiente evidencia estadística para concluir que existe una diferencia significativa en el rendimiento académico entre los dos grupos. Dado que hipótesis alternativa (H1) era que el grupo con tutoría tiene un mejor rendimiento académico (media_a > media_b), y el estadístico t es positivo (7.65), los resultados sugieren que el grupo que recibió tutoría (Grupo A) tuvo un rendimiento académico significativamente mayor que el grupo de control (Grupo B)"
      ],
      "metadata": {
        "id": "HuwJK7Ldk2Q7"
      }
    },
    {
      "cell_type": "code",
      "metadata": {
        "colab": {
          "base_uri": "https://localhost:8080/"
        },
        "id": "1dcd7863",
        "outputId": "91440428-ef11-4db3-8589-e8301dc466de"
      },
      "source": [
        "n_a = len(grupo_a)\n",
        "n_b = len(grupo_b)\n",
        "\n",
        "# Cálculo de la desviación estándar combinada\n",
        "std_comb = np.sqrt(((n_a - 1) * std_a**2 + (n_b - 1) * std_b**2) / (n_a + n_b - 2))\n",
        "\n",
        "# Cálculo del error estándar de la diferencia entre medias\n",
        "se_dif = std_comb * np.sqrt((1/n_a) + (1/n_b))\n",
        "\n",
        "# Grados de libertad\n",
        "df = n_a + n_b - 2\n",
        "\n",
        "# Cálculo el intervalo de confianza del 95%\n",
        "t_crit = stats.t.ppf(1 - alpha/2, df)\n",
        "\n",
        "lim_inf = (media_a - media_b) - t_crit * se_dif\n",
        "lim_sup = (media_a - media_b) + t_crit * se_dif\n",
        "\n",
        "print(f\"Intervalo de confianza del 95% para la diferencia de medias: ({lim_inf:.2f}, {lim_sup:.2f})\")"
      ],
      "execution_count": 13,
      "outputs": [
        {
          "output_type": "stream",
          "name": "stdout",
          "text": [
            "Intervalo de confianza del 95% para la diferencia de medias: (7.91, 13.69)\n"
          ]
        }
      ]
    },
    {
      "cell_type": "markdown",
      "source": [
        "Con un 95% de confianza, la verdadera diferencia promedio en las puntuaciones entre los estudiantes que recibieron la tutoría (Grupo A) y los que no la recibieron (Grupo B), en la población de la que se extrajeron estas muestras, se encuentra entre 7.91 y 13.69 puntos. Se infiere que la tutoría tuvo un efecto positivo y significativo en el rendimiento académico, estimando que, en promedio, los estudiantes con tutoría obtienen entre 7.91 y 13.69 puntos más que los estudiantes sin tutoría."
      ],
      "metadata": {
        "id": "OiS8DQ5iu6TL"
      }
    }
  ]
}